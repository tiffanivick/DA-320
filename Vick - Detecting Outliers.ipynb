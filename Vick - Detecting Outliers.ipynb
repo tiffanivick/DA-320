{
 "cells": [
  {
   "cell_type": "code",
   "execution_count": 1,
   "metadata": {},
   "outputs": [],
   "source": [
    "import pandas as pd\n",
    "import numpy as np\n",
    "import json \n",
    "import pymongo as pm\n",
    "import certifi\n",
    "import matplotlib.pyplot as plt\n",
    "import seaborn as sns"
   ]
  },
  {
   "cell_type": "code",
   "execution_count": 2,
   "metadata": {},
   "outputs": [
    {
     "data": {
      "text/html": [
       "<div>\n",
       "<style scoped>\n",
       "    .dataframe tbody tr th:only-of-type {\n",
       "        vertical-align: middle;\n",
       "    }\n",
       "\n",
       "    .dataframe tbody tr th {\n",
       "        vertical-align: top;\n",
       "    }\n",
       "\n",
       "    .dataframe thead th {\n",
       "        text-align: right;\n",
       "    }\n",
       "</style>\n",
       "<table border=\"1\" class=\"dataframe\">\n",
       "  <thead>\n",
       "    <tr style=\"text-align: right;\">\n",
       "      <th></th>\n",
       "      <th>id</th>\n",
       "      <th>title</th>\n",
       "      <th>runtime</th>\n",
       "      <th>user_rating</th>\n",
       "      <th>votes</th>\n",
       "      <th>mpaa_rating</th>\n",
       "      <th>release_date</th>\n",
       "      <th>budget</th>\n",
       "      <th>opening_weekend</th>\n",
       "      <th>gross_sales</th>\n",
       "      <th>genres</th>\n",
       "      <th>cast</th>\n",
       "      <th>director</th>\n",
       "      <th>producer</th>\n",
       "      <th>company</th>\n",
       "    </tr>\n",
       "  </thead>\n",
       "  <tbody>\n",
       "    <tr>\n",
       "      <th>0</th>\n",
       "      <td>77631</td>\n",
       "      <td>Grease</td>\n",
       "      <td>110.0</td>\n",
       "      <td>7.2</td>\n",
       "      <td>265183</td>\n",
       "      <td>TV-14::(D)</td>\n",
       "      <td>6/13/1978</td>\n",
       "      <td>6000000.0</td>\n",
       "      <td>60759.0</td>\n",
       "      <td>394955690.0</td>\n",
       "      <td>Comedy, Musical, Romance</td>\n",
       "      <td>John Travolta, Olivia Newton-John, Stockard Ch...</td>\n",
       "      <td>Randal Kleiser</td>\n",
       "      <td>Allan Carr, Neil A. Machlis, Robert Stigwood</td>\n",
       "      <td>Paramount Pictures, Robert Stigwood Organizati...</td>\n",
       "    </tr>\n",
       "    <tr>\n",
       "      <th>1</th>\n",
       "      <td>78346</td>\n",
       "      <td>Superman</td>\n",
       "      <td>143.0</td>\n",
       "      <td>7.4</td>\n",
       "      <td>172769</td>\n",
       "      <td>TV-PG::(LV)</td>\n",
       "      <td>12/10/1978</td>\n",
       "      <td>55000000.0</td>\n",
       "      <td>7465343.0</td>\n",
       "      <td>166200000.0</td>\n",
       "      <td>Action, Adventure, Sci-Fi</td>\n",
       "      <td>Marlon Brando, Gene Hackman, Christopher Reeve...</td>\n",
       "      <td>Richard Donner</td>\n",
       "      <td>Charles Greenlaw, Richard Lester, Alexander Sa...</td>\n",
       "      <td>Dovemead Films, Film Export A.G., Internationa...</td>\n",
       "    </tr>\n",
       "    <tr>\n",
       "      <th>2</th>\n",
       "      <td>77416</td>\n",
       "      <td>The Deer Hunter</td>\n",
       "      <td>183.0</td>\n",
       "      <td>8.1</td>\n",
       "      <td>334827</td>\n",
       "      <td>R</td>\n",
       "      <td>12/8/1978</td>\n",
       "      <td>15000000.0</td>\n",
       "      <td>NaN</td>\n",
       "      <td>NaN</td>\n",
       "      <td>Drama, War</td>\n",
       "      <td>Robert De Niro, John Cazale, John Savage, Chri...</td>\n",
       "      <td>Michael Cimino</td>\n",
       "      <td>Joann Carelli, Michael Cimino, Michael Deeley,...</td>\n",
       "      <td>EMI Films, Universal Pictures</td>\n",
       "    </tr>\n",
       "    <tr>\n",
       "      <th>3</th>\n",
       "      <td>77651</td>\n",
       "      <td>Halloween</td>\n",
       "      <td>91.0</td>\n",
       "      <td>7.7</td>\n",
       "      <td>267109</td>\n",
       "      <td>TV-14</td>\n",
       "      <td>10/25/1978</td>\n",
       "      <td>300000.0</td>\n",
       "      <td>NaN</td>\n",
       "      <td>70000000.0</td>\n",
       "      <td>Horror, Thriller</td>\n",
       "      <td>Donald Pleasence, Jamie Lee Curtis, Nancy Kyes...</td>\n",
       "      <td>John Carpenter</td>\n",
       "      <td>Moustapha Akkad, John Carpenter, Debra Hill, K...</td>\n",
       "      <td>Compass International Pictures, Falcon Interna...</td>\n",
       "    </tr>\n",
       "    <tr>\n",
       "      <th>4</th>\n",
       "      <td>77975</td>\n",
       "      <td>National Lampoon's Animal House</td>\n",
       "      <td>109.0</td>\n",
       "      <td>7.4</td>\n",
       "      <td>119917</td>\n",
       "      <td>TV-14::(DLSV, TV Rating.)</td>\n",
       "      <td>7/27/1978</td>\n",
       "      <td>3000000.0</td>\n",
       "      <td>201747.0</td>\n",
       "      <td>3371006.0</td>\n",
       "      <td>Comedy</td>\n",
       "      <td>Tom Hulce, Stephen Furst, Mark Metcalf, Mary L...</td>\n",
       "      <td>John Landis</td>\n",
       "      <td>Ivan Reitman, Matty Simmons</td>\n",
       "      <td>Universal Pictures, Oregon Film Factory, Stage...</td>\n",
       "    </tr>\n",
       "  </tbody>\n",
       "</table>\n",
       "</div>"
      ],
      "text/plain": [
       "      id                            title  runtime  user_rating   votes  \\\n",
       "0  77631                           Grease    110.0          7.2  265183   \n",
       "1  78346                         Superman    143.0          7.4  172769   \n",
       "2  77416                  The Deer Hunter    183.0          8.1  334827   \n",
       "3  77651                        Halloween     91.0          7.7  267109   \n",
       "4  77975  National Lampoon's Animal House    109.0          7.4  119917   \n",
       "\n",
       "                 mpaa_rating release_date      budget  opening_weekend  \\\n",
       "0                 TV-14::(D)    6/13/1978   6000000.0          60759.0   \n",
       "1                TV-PG::(LV)   12/10/1978  55000000.0        7465343.0   \n",
       "2                          R    12/8/1978  15000000.0              NaN   \n",
       "3                      TV-14   10/25/1978    300000.0              NaN   \n",
       "4  TV-14::(DLSV, TV Rating.)    7/27/1978   3000000.0         201747.0   \n",
       "\n",
       "   gross_sales                     genres  \\\n",
       "0  394955690.0   Comedy, Musical, Romance   \n",
       "1  166200000.0  Action, Adventure, Sci-Fi   \n",
       "2          NaN                 Drama, War   \n",
       "3   70000000.0           Horror, Thriller   \n",
       "4    3371006.0                     Comedy   \n",
       "\n",
       "                                                cast        director  \\\n",
       "0  John Travolta, Olivia Newton-John, Stockard Ch...  Randal Kleiser   \n",
       "1  Marlon Brando, Gene Hackman, Christopher Reeve...  Richard Donner   \n",
       "2  Robert De Niro, John Cazale, John Savage, Chri...  Michael Cimino   \n",
       "3  Donald Pleasence, Jamie Lee Curtis, Nancy Kyes...  John Carpenter   \n",
       "4  Tom Hulce, Stephen Furst, Mark Metcalf, Mary L...     John Landis   \n",
       "\n",
       "                                            producer  \\\n",
       "0       Allan Carr, Neil A. Machlis, Robert Stigwood   \n",
       "1  Charles Greenlaw, Richard Lester, Alexander Sa...   \n",
       "2  Joann Carelli, Michael Cimino, Michael Deeley,...   \n",
       "3  Moustapha Akkad, John Carpenter, Debra Hill, K...   \n",
       "4                        Ivan Reitman, Matty Simmons   \n",
       "\n",
       "                                             company  \n",
       "0  Paramount Pictures, Robert Stigwood Organizati...  \n",
       "1  Dovemead Films, Film Export A.G., Internationa...  \n",
       "2                      EMI Films, Universal Pictures  \n",
       "3  Compass International Pictures, Falcon Interna...  \n",
       "4  Universal Pictures, Oregon Film Factory, Stage...  "
      ]
     },
     "execution_count": 2,
     "metadata": {},
     "output_type": "execute_result"
    }
   ],
   "source": [
    "# Read file \n",
    "superhero = pd.read_csv(\"imdb_superhero_2.csv\")\n",
    "\n",
    "# Print out top 5 rows of the file\n",
    "superhero.head()"
   ]
  },
  {
   "cell_type": "code",
   "execution_count": 3,
   "metadata": {},
   "outputs": [
    {
     "name": "stdout",
     "output_type": "stream",
     "text": [
      "Using MongoDB version 5.0.13.\n",
      "This database has the collections ['metacritic_movies', 'Superhero']\n"
     ]
    }
   ],
   "source": [
    "# Open csv file\n",
    "with open(\"credentials.json\") as file:\n",
    "  data = json.load(file)\n",
    "  \n",
    "  # Connect string\n",
    "  connection_string = data[\"mongodb\"]\n",
    "  \n",
    "  # Connect to the database with certificate\n",
    "  db_connection_cert = pm.MongoClient(connection_string, tlsCAFile=certifi.where())\n",
    "  \n",
    "  # Fetch the database\n",
    "  db = db_connection_cert[\"DB1\"]\n",
    "  \n",
    "  # Retrieve database collections\n",
    "  db_collections = db.list_collection_names()\n",
    "  \n",
    "  # Print out collections\n",
    "  print(f\"Using MongoDB version {db_connection_cert.server_info()['version']}.\")\n",
    "print(f\"This database has the collections {db_collections}\")"
   ]
  },
  {
   "cell_type": "code",
   "execution_count": 4,
   "metadata": {},
   "outputs": [
    {
     "data": {
      "text/html": [
       "<div>\n",
       "<style scoped>\n",
       "    .dataframe tbody tr th:only-of-type {\n",
       "        vertical-align: middle;\n",
       "    }\n",
       "\n",
       "    .dataframe tbody tr th {\n",
       "        vertical-align: top;\n",
       "    }\n",
       "\n",
       "    .dataframe thead th {\n",
       "        text-align: right;\n",
       "    }\n",
       "</style>\n",
       "<table border=\"1\" class=\"dataframe\">\n",
       "  <thead>\n",
       "    <tr style=\"text-align: right;\">\n",
       "      <th></th>\n",
       "      <th>_id</th>\n",
       "      <th>id</th>\n",
       "      <th>title</th>\n",
       "      <th>runtime</th>\n",
       "      <th>user_rating</th>\n",
       "      <th>votes</th>\n",
       "      <th>mpaa_rating</th>\n",
       "      <th>release_date</th>\n",
       "      <th>budget</th>\n",
       "      <th>opening_weekend</th>\n",
       "      <th>gross_sales</th>\n",
       "      <th>genres</th>\n",
       "      <th>cast</th>\n",
       "      <th>director</th>\n",
       "      <th>producer</th>\n",
       "      <th>company</th>\n",
       "    </tr>\n",
       "  </thead>\n",
       "  <tbody>\n",
       "    <tr>\n",
       "      <th>0</th>\n",
       "      <td>634c33717ad09522f6ac22d6</td>\n",
       "      <td>78346</td>\n",
       "      <td>Superman</td>\n",
       "      <td>143</td>\n",
       "      <td>7.4</td>\n",
       "      <td>172769</td>\n",
       "      <td>TV-PG::(LV)</td>\n",
       "      <td>12/10/1978</td>\n",
       "      <td>55000000</td>\n",
       "      <td>7465343</td>\n",
       "      <td>166200000</td>\n",
       "      <td>Action, Adventure, Sci-Fi</td>\n",
       "      <td>Marlon Brando, Gene Hackman, Christopher Reeve...</td>\n",
       "      <td>Richard Donner</td>\n",
       "      <td>Charles Greenlaw, Richard Lester, Alexander Sa...</td>\n",
       "      <td>Dovemead Films, Film Export A.G., Internationa...</td>\n",
       "    </tr>\n",
       "    <tr>\n",
       "      <th>1</th>\n",
       "      <td>634c33717ad09522f6ac22db</td>\n",
       "      <td>77413</td>\n",
       "      <td>Death on the Nile</td>\n",
       "      <td>140</td>\n",
       "      <td>7.2</td>\n",
       "      <td>34243</td>\n",
       "      <td>PG</td>\n",
       "      <td>6/20/1978</td>\n",
       "      <td>7920000</td>\n",
       "      <td>NULL</td>\n",
       "      <td>784489</td>\n",
       "      <td>Crime, Drama, Mystery</td>\n",
       "      <td>Peter Ustinov, Jane Birkin, Lois Chiles, Bette...</td>\n",
       "      <td>John Guillermin</td>\n",
       "      <td>John Brabourne, Richard Goodwin, Norton Knatch...</td>\n",
       "      <td>Mersham Productions Ltd., EMI Films</td>\n",
       "    </tr>\n",
       "    <tr>\n",
       "      <th>2</th>\n",
       "      <td>634c33717ad09522f6ac22e2</td>\n",
       "      <td>77928</td>\n",
       "      <td>Midnight Express</td>\n",
       "      <td>121</td>\n",
       "      <td>7.5</td>\n",
       "      <td>79089</td>\n",
       "      <td>R</td>\n",
       "      <td>5/18/1978</td>\n",
       "      <td>2700000</td>\n",
       "      <td>NULL</td>\n",
       "      <td>NULL</td>\n",
       "      <td>Biography, Crime, Drama, Thriller</td>\n",
       "      <td>Brad Davis, Irene Miracle, Bo Hopkins, Paolo B...</td>\n",
       "      <td>Alan Parker</td>\n",
       "      <td>Peter Guber, Alan Marshall, David Puttnam</td>\n",
       "      <td>Columbia Pictures, Casablanca Filmworks</td>\n",
       "    </tr>\n",
       "    <tr>\n",
       "      <th>3</th>\n",
       "      <td>634c33717ad09522f6ac22e3</td>\n",
       "      <td>78480</td>\n",
       "      <td>Watership Down</td>\n",
       "      <td>91</td>\n",
       "      <td>7.6</td>\n",
       "      <td>36440</td>\n",
       "      <td>TV-MA::(TV rating)</td>\n",
       "      <td>10/14/1978</td>\n",
       "      <td>NULL</td>\n",
       "      <td>NULL</td>\n",
       "      <td>NULL</td>\n",
       "      <td>Animation, Adventure, Drama, Thriller</td>\n",
       "      <td>John Hurt, Richard Briers, Michael Graham Cox,...</td>\n",
       "      <td>Martin Rosen, John Hubley</td>\n",
       "      <td>Jake Eberts, Martin Rosen</td>\n",
       "      <td>Nepenthe Productions, Watership Productions, E...</td>\n",
       "    </tr>\n",
       "    <tr>\n",
       "      <th>4</th>\n",
       "      <td>634c33717ad09522f6ac22e8</td>\n",
       "      <td>77663</td>\n",
       "      <td>Heaven Can Wait</td>\n",
       "      <td>101</td>\n",
       "      <td>6.9</td>\n",
       "      <td>21157</td>\n",
       "      <td>PG</td>\n",
       "      <td>6/28/1978</td>\n",
       "      <td>NULL</td>\n",
       "      <td>4192799</td>\n",
       "      <td>NULL</td>\n",
       "      <td>Comedy, Fantasy, Romance, Sport</td>\n",
       "      <td>Warren Beatty, Julie Christie, James Mason, Ja...</td>\n",
       "      <td>Warren Beatty, Buck Henry</td>\n",
       "      <td>Warren Beatty, Hawk Koch, Charles H. Maguire</td>\n",
       "      <td>Paramount Pictures</td>\n",
       "    </tr>\n",
       "  </tbody>\n",
       "</table>\n",
       "</div>"
      ],
      "text/plain": [
       "                        _id     id              title runtime user_rating  \\\n",
       "0  634c33717ad09522f6ac22d6  78346           Superman     143         7.4   \n",
       "1  634c33717ad09522f6ac22db  77413  Death on the Nile     140         7.2   \n",
       "2  634c33717ad09522f6ac22e2  77928   Midnight Express     121         7.5   \n",
       "3  634c33717ad09522f6ac22e3  78480     Watership Down      91         7.6   \n",
       "4  634c33717ad09522f6ac22e8  77663    Heaven Can Wait     101         6.9   \n",
       "\n",
       "    votes         mpaa_rating release_date    budget opening_weekend  \\\n",
       "0  172769         TV-PG::(LV)   12/10/1978  55000000         7465343   \n",
       "1   34243                  PG    6/20/1978   7920000            NULL   \n",
       "2   79089                   R    5/18/1978   2700000            NULL   \n",
       "3   36440  TV-MA::(TV rating)   10/14/1978      NULL            NULL   \n",
       "4   21157                  PG    6/28/1978      NULL         4192799   \n",
       "\n",
       "  gross_sales                                 genres  \\\n",
       "0   166200000              Action, Adventure, Sci-Fi   \n",
       "1      784489                  Crime, Drama, Mystery   \n",
       "2        NULL      Biography, Crime, Drama, Thriller   \n",
       "3        NULL  Animation, Adventure, Drama, Thriller   \n",
       "4        NULL        Comedy, Fantasy, Romance, Sport   \n",
       "\n",
       "                                                cast  \\\n",
       "0  Marlon Brando, Gene Hackman, Christopher Reeve...   \n",
       "1  Peter Ustinov, Jane Birkin, Lois Chiles, Bette...   \n",
       "2  Brad Davis, Irene Miracle, Bo Hopkins, Paolo B...   \n",
       "3  John Hurt, Richard Briers, Michael Graham Cox,...   \n",
       "4  Warren Beatty, Julie Christie, James Mason, Ja...   \n",
       "\n",
       "                    director  \\\n",
       "0             Richard Donner   \n",
       "1            John Guillermin   \n",
       "2                Alan Parker   \n",
       "3  Martin Rosen, John Hubley   \n",
       "4  Warren Beatty, Buck Henry   \n",
       "\n",
       "                                            producer  \\\n",
       "0  Charles Greenlaw, Richard Lester, Alexander Sa...   \n",
       "1  John Brabourne, Richard Goodwin, Norton Knatch...   \n",
       "2          Peter Guber, Alan Marshall, David Puttnam   \n",
       "3                          Jake Eberts, Martin Rosen   \n",
       "4       Warren Beatty, Hawk Koch, Charles H. Maguire   \n",
       "\n",
       "                                             company  \n",
       "0  Dovemead Films, Film Export A.G., Internationa...  \n",
       "1                Mersham Productions Ltd., EMI Films  \n",
       "2            Columbia Pictures, Casablanca Filmworks  \n",
       "3  Nepenthe Productions, Watership Productions, E...  \n",
       "4                                 Paramount Pictures  "
      ]
     },
     "execution_count": 4,
     "metadata": {},
     "output_type": "execute_result"
    }
   ],
   "source": [
    "# Retrieve data from Superhero collection\n",
    "superhero_data = db[\"Superhero\"].find()\n",
    "\n",
    "# Convert Superhero data to a dataframe\n",
    "df = pd.DataFrame(superhero_data)\n",
    "\n",
    "# Print the top 5 rows of dataframe\n",
    "df.head()"
   ]
  },
  {
   "cell_type": "markdown",
   "metadata": {},
   "source": [
    "##### Comment: Analyzing the head of the dataframe I can see this data set has some null values in the following columns: budget, opening_weekend, and gross sales. Further analysis will be done to see if any of the other columns contain null values, specifically, with the columns of interest (runtime, release_date, and budget). "
   ]
  },
  {
   "cell_type": "markdown",
   "metadata": {},
   "source": [
    "### Handling Null Values"
   ]
  },
  {
   "cell_type": "code",
   "execution_count": 5,
   "metadata": {},
   "outputs": [
    {
     "name": "stdout",
     "output_type": "stream",
     "text": [
      "<class 'pandas.core.frame.DataFrame'>\n",
      "RangeIndex: 48443 entries, 0 to 48442\n",
      "Data columns (total 16 columns):\n",
      " #   Column           Non-Null Count  Dtype \n",
      "---  ------           --------------  ----- \n",
      " 0   _id              48443 non-null  object\n",
      " 1   id               48443 non-null  object\n",
      " 2   title            48443 non-null  object\n",
      " 3   runtime          48418 non-null  object\n",
      " 4   user_rating      48443 non-null  object\n",
      " 5   votes            48443 non-null  object\n",
      " 6   mpaa_rating      46827 non-null  object\n",
      " 7   release_date     48443 non-null  object\n",
      " 8   budget           31807 non-null  object\n",
      " 9   opening_weekend  25228 non-null  object\n",
      " 10  gross_sales      23372 non-null  object\n",
      " 11  genres           48443 non-null  object\n",
      " 12  cast             48443 non-null  object\n",
      " 13  director         48443 non-null  object\n",
      " 14  producer         48443 non-null  object\n",
      " 15  company          48443 non-null  object\n",
      "dtypes: object(16)\n",
      "memory usage: 5.9+ MB\n"
     ]
    }
   ],
   "source": [
    "# Checking column datatypes and non-null values\n",
    "df.info()"
   ]
  },
  {
   "cell_type": "markdown",
   "metadata": {},
   "source": [
    "##### There are 48443 rows. From looking at the runtime and budget there are some null values. Further analysis will be done to check how many nulls reside in each column."
   ]
  },
  {
   "cell_type": "code",
   "execution_count": 6,
   "metadata": {},
   "outputs": [
    {
     "name": "stdout",
     "output_type": "stream",
     "text": [
      "_id has 0 null values: 0.0 percent null\n",
      "id has 0 null values: 0.0 percent null\n",
      "title has 0 null values: 0.0 percent null\n",
      "runtime has 25 null values: 0.05 percent null\n",
      "user_rating has 0 null values: 0.0 percent null\n",
      "votes has 0 null values: 0.0 percent null\n",
      "mpaa_rating has 1616 null values: 3.34 percent null\n",
      "release_date has 0 null values: 0.0 percent null\n",
      "budget has 16636 null values: 34.34 percent null\n",
      "opening_weekend has 23215 null values: 47.92 percent null\n",
      "gross_sales has 25071 null values: 51.75 percent null\n",
      "genres has 0 null values: 0.0 percent null\n",
      "cast has 0 null values: 0.0 percent null\n",
      "director has 0 null values: 0.0 percent null\n",
      "producer has 0 null values: 0.0 percent null\n",
      "company has 0 null values: 0.0 percent null\n"
     ]
    }
   ],
   "source": [
    "def null_breakdown(df=df):\n",
    "  # Looping dataframe fields to get count of nulls in each column\n",
    "  for col in df:\n",
    "    count_null = df[col].isnull().sum()\n",
    "    total_null_count = df[col].isna().count()\n",
    "    percent_null = round(count_null/total_null_count*100, 2)\n",
    "    print('{} has {} null values: {} percent null'.format(col, count_null, percent_null))\n",
    "\n",
    "    #print('{} has {} null values: {} percent null'.format(col, count_null, percent_null))\n",
    "\n",
    "null_breakdown()      "
   ]
  },
  {
   "cell_type": "markdown",
   "metadata": {},
   "source": [
    "##### Columns with nulls: runtime, mpaa_rating, budget, opening_weeking, ross_sales"
   ]
  },
  {
   "cell_type": "markdown",
   "metadata": {},
   "source": [
    "##### Only a small portion of columns in runtime have null values (.05%), these rows could either be removed or filled in. Budget has a little more than 30 percnet of the columns contain null values (34.34%), I will fill in these rows with the mode value for that column."
   ]
  },
  {
   "cell_type": "code",
   "execution_count": 7,
   "metadata": {},
   "outputs": [
    {
     "data": {
      "text/html": [
       "<div>\n",
       "<style scoped>\n",
       "    .dataframe tbody tr th:only-of-type {\n",
       "        vertical-align: middle;\n",
       "    }\n",
       "\n",
       "    .dataframe tbody tr th {\n",
       "        vertical-align: top;\n",
       "    }\n",
       "\n",
       "    .dataframe thead th {\n",
       "        text-align: right;\n",
       "    }\n",
       "</style>\n",
       "<table border=\"1\" class=\"dataframe\">\n",
       "  <thead>\n",
       "    <tr style=\"text-align: right;\">\n",
       "      <th></th>\n",
       "      <th>_id</th>\n",
       "      <th>id</th>\n",
       "      <th>title</th>\n",
       "      <th>runtime</th>\n",
       "      <th>user_rating</th>\n",
       "      <th>votes</th>\n",
       "      <th>mpaa_rating</th>\n",
       "      <th>release_date</th>\n",
       "      <th>budget</th>\n",
       "      <th>opening_weekend</th>\n",
       "      <th>gross_sales</th>\n",
       "      <th>genres</th>\n",
       "      <th>cast</th>\n",
       "      <th>director</th>\n",
       "      <th>producer</th>\n",
       "      <th>company</th>\n",
       "    </tr>\n",
       "  </thead>\n",
       "  <tbody>\n",
       "    <tr>\n",
       "      <th>0</th>\n",
       "      <td>634c33717ad09522f6ac22d6</td>\n",
       "      <td>78346</td>\n",
       "      <td>Superman</td>\n",
       "      <td>143</td>\n",
       "      <td>7.4</td>\n",
       "      <td>172769</td>\n",
       "      <td>TV-PG::(LV)</td>\n",
       "      <td>12/10/1978</td>\n",
       "      <td>55000000</td>\n",
       "      <td>7465343</td>\n",
       "      <td>166200000</td>\n",
       "      <td>Action, Adventure, Sci-Fi</td>\n",
       "      <td>Marlon Brando, Gene Hackman, Christopher Reeve...</td>\n",
       "      <td>Richard Donner</td>\n",
       "      <td>Charles Greenlaw, Richard Lester, Alexander Sa...</td>\n",
       "      <td>Dovemead Films, Film Export A.G., Internationa...</td>\n",
       "    </tr>\n",
       "    <tr>\n",
       "      <th>1</th>\n",
       "      <td>634c33717ad09522f6ac22db</td>\n",
       "      <td>77413</td>\n",
       "      <td>Death on the Nile</td>\n",
       "      <td>140</td>\n",
       "      <td>7.2</td>\n",
       "      <td>34243</td>\n",
       "      <td>PG</td>\n",
       "      <td>6/20/1978</td>\n",
       "      <td>7920000</td>\n",
       "      <td>NULL</td>\n",
       "      <td>784489</td>\n",
       "      <td>Crime, Drama, Mystery</td>\n",
       "      <td>Peter Ustinov, Jane Birkin, Lois Chiles, Bette...</td>\n",
       "      <td>John Guillermin</td>\n",
       "      <td>John Brabourne, Richard Goodwin, Norton Knatch...</td>\n",
       "      <td>Mersham Productions Ltd., EMI Films</td>\n",
       "    </tr>\n",
       "    <tr>\n",
       "      <th>2</th>\n",
       "      <td>634c33717ad09522f6ac22e2</td>\n",
       "      <td>77928</td>\n",
       "      <td>Midnight Express</td>\n",
       "      <td>121</td>\n",
       "      <td>7.5</td>\n",
       "      <td>79089</td>\n",
       "      <td>R</td>\n",
       "      <td>5/18/1978</td>\n",
       "      <td>2700000</td>\n",
       "      <td>NULL</td>\n",
       "      <td>NULL</td>\n",
       "      <td>Biography, Crime, Drama, Thriller</td>\n",
       "      <td>Brad Davis, Irene Miracle, Bo Hopkins, Paolo B...</td>\n",
       "      <td>Alan Parker</td>\n",
       "      <td>Peter Guber, Alan Marshall, David Puttnam</td>\n",
       "      <td>Columbia Pictures, Casablanca Filmworks</td>\n",
       "    </tr>\n",
       "    <tr>\n",
       "      <th>3</th>\n",
       "      <td>634c33717ad09522f6ac22e3</td>\n",
       "      <td>78480</td>\n",
       "      <td>Watership Down</td>\n",
       "      <td>91</td>\n",
       "      <td>7.6</td>\n",
       "      <td>36440</td>\n",
       "      <td>TV-MA::(TV rating)</td>\n",
       "      <td>10/14/1978</td>\n",
       "      <td>5000000</td>\n",
       "      <td>NULL</td>\n",
       "      <td>NULL</td>\n",
       "      <td>Animation, Adventure, Drama, Thriller</td>\n",
       "      <td>John Hurt, Richard Briers, Michael Graham Cox,...</td>\n",
       "      <td>Martin Rosen, John Hubley</td>\n",
       "      <td>Jake Eberts, Martin Rosen</td>\n",
       "      <td>Nepenthe Productions, Watership Productions, E...</td>\n",
       "    </tr>\n",
       "    <tr>\n",
       "      <th>4</th>\n",
       "      <td>634c33717ad09522f6ac22e8</td>\n",
       "      <td>77663</td>\n",
       "      <td>Heaven Can Wait</td>\n",
       "      <td>101</td>\n",
       "      <td>6.9</td>\n",
       "      <td>21157</td>\n",
       "      <td>PG</td>\n",
       "      <td>6/28/1978</td>\n",
       "      <td>5000000</td>\n",
       "      <td>4192799</td>\n",
       "      <td>NULL</td>\n",
       "      <td>Comedy, Fantasy, Romance, Sport</td>\n",
       "      <td>Warren Beatty, Julie Christie, James Mason, Ja...</td>\n",
       "      <td>Warren Beatty, Buck Henry</td>\n",
       "      <td>Warren Beatty, Hawk Koch, Charles H. Maguire</td>\n",
       "      <td>Paramount Pictures</td>\n",
       "    </tr>\n",
       "  </tbody>\n",
       "</table>\n",
       "</div>"
      ],
      "text/plain": [
       "                        _id     id              title runtime user_rating  \\\n",
       "0  634c33717ad09522f6ac22d6  78346           Superman     143         7.4   \n",
       "1  634c33717ad09522f6ac22db  77413  Death on the Nile     140         7.2   \n",
       "2  634c33717ad09522f6ac22e2  77928   Midnight Express     121         7.5   \n",
       "3  634c33717ad09522f6ac22e3  78480     Watership Down      91         7.6   \n",
       "4  634c33717ad09522f6ac22e8  77663    Heaven Can Wait     101         6.9   \n",
       "\n",
       "    votes         mpaa_rating release_date    budget opening_weekend  \\\n",
       "0  172769         TV-PG::(LV)   12/10/1978  55000000         7465343   \n",
       "1   34243                  PG    6/20/1978   7920000            NULL   \n",
       "2   79089                   R    5/18/1978   2700000            NULL   \n",
       "3   36440  TV-MA::(TV rating)   10/14/1978   5000000            NULL   \n",
       "4   21157                  PG    6/28/1978   5000000         4192799   \n",
       "\n",
       "  gross_sales                                 genres  \\\n",
       "0   166200000              Action, Adventure, Sci-Fi   \n",
       "1      784489                  Crime, Drama, Mystery   \n",
       "2        NULL      Biography, Crime, Drama, Thriller   \n",
       "3        NULL  Animation, Adventure, Drama, Thriller   \n",
       "4        NULL        Comedy, Fantasy, Romance, Sport   \n",
       "\n",
       "                                                cast  \\\n",
       "0  Marlon Brando, Gene Hackman, Christopher Reeve...   \n",
       "1  Peter Ustinov, Jane Birkin, Lois Chiles, Bette...   \n",
       "2  Brad Davis, Irene Miracle, Bo Hopkins, Paolo B...   \n",
       "3  John Hurt, Richard Briers, Michael Graham Cox,...   \n",
       "4  Warren Beatty, Julie Christie, James Mason, Ja...   \n",
       "\n",
       "                    director  \\\n",
       "0             Richard Donner   \n",
       "1            John Guillermin   \n",
       "2                Alan Parker   \n",
       "3  Martin Rosen, John Hubley   \n",
       "4  Warren Beatty, Buck Henry   \n",
       "\n",
       "                                            producer  \\\n",
       "0  Charles Greenlaw, Richard Lester, Alexander Sa...   \n",
       "1  John Brabourne, Richard Goodwin, Norton Knatch...   \n",
       "2          Peter Guber, Alan Marshall, David Puttnam   \n",
       "3                          Jake Eberts, Martin Rosen   \n",
       "4       Warren Beatty, Hawk Koch, Charles H. Maguire   \n",
       "\n",
       "                                             company  \n",
       "0  Dovemead Films, Film Export A.G., Internationa...  \n",
       "1                Mersham Productions Ltd., EMI Films  \n",
       "2            Columbia Pictures, Casablanca Filmworks  \n",
       "3  Nepenthe Productions, Watership Productions, E...  \n",
       "4                                 Paramount Pictures  "
      ]
     },
     "execution_count": 7,
     "metadata": {},
     "output_type": "execute_result"
    }
   ],
   "source": [
    "# Converting column rows of str 'NULL' to None \n",
    "def fillna_custom(col_name):\n",
    "    for i,x in enumerate(df[col_name]):\n",
    "      if x == 'NULL':\n",
    "        df[col_name][i] = None\n",
    "              \n",
    "fillna_custom('runtime') \n",
    "fillna_custom('budget')       \n",
    "\n",
    "# Replacing nan with column mode\n",
    "df['runtime'].replace([np.nan], df['runtime'].mode()[0], inplace=True)\n",
    "df['budget'].replace([np.nan], df['budget'].mode()[0], inplace=True)\n",
    "\n",
    "df.head()\n"
   ]
  },
  {
   "cell_type": "markdown",
   "metadata": {},
   "source": [
    "Comparing this to the previous table, the nulls seem to have been dealt with. Another view at the null breakdown function will help to be sure that there are no more nulls present in the runtime and budget columns. "
   ]
  },
  {
   "cell_type": "code",
   "execution_count": 8,
   "metadata": {},
   "outputs": [
    {
     "name": "stdout",
     "output_type": "stream",
     "text": [
      "_id has 0 null values: 0.0 percent null\n",
      "id has 0 null values: 0.0 percent null\n",
      "title has 0 null values: 0.0 percent null\n",
      "runtime has 0 null values: 0.0 percent null\n",
      "user_rating has 0 null values: 0.0 percent null\n",
      "votes has 0 null values: 0.0 percent null\n",
      "mpaa_rating has 1616 null values: 3.34 percent null\n",
      "release_date has 0 null values: 0.0 percent null\n",
      "budget has 0 null values: 0.0 percent null\n",
      "opening_weekend has 23215 null values: 47.92 percent null\n",
      "gross_sales has 25071 null values: 51.75 percent null\n",
      "genres has 0 null values: 0.0 percent null\n",
      "cast has 0 null values: 0.0 percent null\n",
      "director has 0 null values: 0.0 percent null\n",
      "producer has 0 null values: 0.0 percent null\n",
      "company has 0 null values: 0.0 percent null\n"
     ]
    }
   ],
   "source": [
    "null_breakdown(df)"
   ]
  },
  {
   "cell_type": "markdown",
   "metadata": {},
   "source": [
    "### Converting Datatypes"
   ]
  },
  {
   "cell_type": "code",
   "execution_count": 9,
   "metadata": {},
   "outputs": [
    {
     "name": "stdout",
     "output_type": "stream",
     "text": [
      "<class 'pandas.core.frame.DataFrame'>\n",
      "RangeIndex: 48443 entries, 0 to 48442\n",
      "Data columns (total 16 columns):\n",
      " #   Column           Non-Null Count  Dtype         \n",
      "---  ------           --------------  -----         \n",
      " 0   _id              48443 non-null  object        \n",
      " 1   id               48443 non-null  object        \n",
      " 2   title            48443 non-null  object        \n",
      " 3   runtime          48443 non-null  object        \n",
      " 4   user_rating      48443 non-null  object        \n",
      " 5   votes            48443 non-null  object        \n",
      " 6   mpaa_rating      46827 non-null  object        \n",
      " 7   release_date     48443 non-null  datetime64[ns]\n",
      " 8   budget           48443 non-null  object        \n",
      " 9   opening_weekend  25228 non-null  object        \n",
      " 10  gross_sales      23372 non-null  object        \n",
      " 11  genres           48443 non-null  object        \n",
      " 12  cast             48443 non-null  object        \n",
      " 13  director         48443 non-null  object        \n",
      " 14  producer         48443 non-null  object        \n",
      " 15  company          48443 non-null  object        \n",
      "dtypes: datetime64[ns](1), object(15)\n",
      "memory usage: 5.9+ MB\n"
     ]
    }
   ],
   "source": [
    "# Converting release data to datetime\n",
    "df['release_date'] = pd.to_datetime(df['release_date'])\n",
    "\n",
    "# Checking the format of the relase date column\n",
    "df.info()"
   ]
  },
  {
   "cell_type": "code",
   "execution_count": 10,
   "metadata": {},
   "outputs": [
    {
     "name": "stdout",
     "output_type": "stream",
     "text": [
      "<class 'pandas.core.frame.DataFrame'>\n",
      "RangeIndex: 48443 entries, 0 to 48442\n",
      "Data columns (total 16 columns):\n",
      " #   Column           Non-Null Count  Dtype         \n",
      "---  ------           --------------  -----         \n",
      " 0   _id              48443 non-null  object        \n",
      " 1   id               48443 non-null  object        \n",
      " 2   title            48443 non-null  object        \n",
      " 3   runtime          48443 non-null  int64         \n",
      " 4   user_rating      48443 non-null  object        \n",
      " 5   votes            48443 non-null  object        \n",
      " 6   mpaa_rating      46827 non-null  object        \n",
      " 7   release_date     48443 non-null  datetime64[ns]\n",
      " 8   budget           48443 non-null  object        \n",
      " 9   opening_weekend  25228 non-null  object        \n",
      " 10  gross_sales      23372 non-null  object        \n",
      " 11  genres           48443 non-null  object        \n",
      " 12  cast             48443 non-null  object        \n",
      " 13  director         48443 non-null  object        \n",
      " 14  producer         48443 non-null  object        \n",
      " 15  company          48443 non-null  object        \n",
      "dtypes: datetime64[ns](1), int64(1), object(14)\n",
      "memory usage: 5.9+ MB\n"
     ]
    }
   ],
   "source": [
    "# Converting runtime to numeric datatype\n",
    "df['runtime'] = pd.to_numeric(df['runtime'])\n",
    "# Checking runtime datatype\n",
    "df.info()"
   ]
  },
  {
   "cell_type": "code",
   "execution_count": 11,
   "metadata": {},
   "outputs": [
    {
     "name": "stdout",
     "output_type": "stream",
     "text": [
      "<class 'pandas.core.frame.DataFrame'>\n",
      "RangeIndex: 48443 entries, 0 to 48442\n",
      "Data columns (total 16 columns):\n",
      " #   Column           Non-Null Count  Dtype         \n",
      "---  ------           --------------  -----         \n",
      " 0   _id              48443 non-null  object        \n",
      " 1   id               48443 non-null  object        \n",
      " 2   title            48443 non-null  object        \n",
      " 3   runtime          48443 non-null  int64         \n",
      " 4   user_rating      48443 non-null  object        \n",
      " 5   votes            48443 non-null  object        \n",
      " 6   mpaa_rating      46827 non-null  object        \n",
      " 7   release_date     48443 non-null  datetime64[ns]\n",
      " 8   budget           48443 non-null  float64       \n",
      " 9   opening_weekend  25228 non-null  object        \n",
      " 10  gross_sales      23372 non-null  object        \n",
      " 11  genres           48443 non-null  object        \n",
      " 12  cast             48443 non-null  object        \n",
      " 13  director         48443 non-null  object        \n",
      " 14  producer         48443 non-null  object        \n",
      " 15  company          48443 non-null  object        \n",
      "dtypes: datetime64[ns](1), float64(1), int64(1), object(13)\n",
      "memory usage: 5.9+ MB\n"
     ]
    }
   ],
   "source": [
    "# Converting runtime to numeric datatype\n",
    "df['budget'] = pd.to_numeric(df['budget'])\n",
    "# Checking runtime datatype\n",
    "df.info()"
   ]
  },
  {
   "cell_type": "code",
   "execution_count": 12,
   "metadata": {},
   "outputs": [
    {
     "data": {
      "text/html": [
       "<div>\n",
       "<style scoped>\n",
       "    .dataframe tbody tr th:only-of-type {\n",
       "        vertical-align: middle;\n",
       "    }\n",
       "\n",
       "    .dataframe tbody tr th {\n",
       "        vertical-align: top;\n",
       "    }\n",
       "\n",
       "    .dataframe thead th {\n",
       "        text-align: right;\n",
       "    }\n",
       "</style>\n",
       "<table border=\"1\" class=\"dataframe\">\n",
       "  <thead>\n",
       "    <tr style=\"text-align: right;\">\n",
       "      <th></th>\n",
       "      <th>runtime</th>\n",
       "      <th>budget</th>\n",
       "    </tr>\n",
       "  </thead>\n",
       "  <tbody>\n",
       "    <tr>\n",
       "      <th>count</th>\n",
       "      <td>48443.000000</td>\n",
       "      <td>4.844300e+04</td>\n",
       "    </tr>\n",
       "    <tr>\n",
       "      <th>mean</th>\n",
       "      <td>105.377536</td>\n",
       "      <td>3.692629e+07</td>\n",
       "    </tr>\n",
       "    <tr>\n",
       "      <th>std</th>\n",
       "      <td>21.978268</td>\n",
       "      <td>8.616651e+08</td>\n",
       "    </tr>\n",
       "    <tr>\n",
       "      <th>min</th>\n",
       "      <td>44.000000</td>\n",
       "      <td>0.000000e+00</td>\n",
       "    </tr>\n",
       "    <tr>\n",
       "      <th>25%</th>\n",
       "      <td>91.000000</td>\n",
       "      <td>5.000000e+06</td>\n",
       "    </tr>\n",
       "    <tr>\n",
       "      <th>50%</th>\n",
       "      <td>100.000000</td>\n",
       "      <td>5.000000e+06</td>\n",
       "    </tr>\n",
       "    <tr>\n",
       "      <th>75%</th>\n",
       "      <td>114.000000</td>\n",
       "      <td>8.000000e+06</td>\n",
       "    </tr>\n",
       "    <tr>\n",
       "      <th>max</th>\n",
       "      <td>566.000000</td>\n",
       "      <td>1.200000e+11</td>\n",
       "    </tr>\n",
       "  </tbody>\n",
       "</table>\n",
       "</div>"
      ],
      "text/plain": [
       "            runtime        budget\n",
       "count  48443.000000  4.844300e+04\n",
       "mean     105.377536  3.692629e+07\n",
       "std       21.978268  8.616651e+08\n",
       "min       44.000000  0.000000e+00\n",
       "25%       91.000000  5.000000e+06\n",
       "50%      100.000000  5.000000e+06\n",
       "75%      114.000000  8.000000e+06\n",
       "max      566.000000  1.200000e+11"
      ]
     },
     "execution_count": 12,
     "metadata": {},
     "output_type": "execute_result"
    }
   ],
   "source": [
    "# Getting runtime and budget statistics \n",
    "df.describe()"
   ]
  },
  {
   "cell_type": "code",
   "execution_count": 13,
   "metadata": {},
   "outputs": [
    {
     "data": {
      "image/png": "[encoded data removed]",
      "text/plain": [
       "<Figure size 640x480 with 1 Axes>"
      ]
     },
     "metadata": {},
     "output_type": "display_data"
    }
   ],
   "source": [
    "# Scatter plot to show a movie's runtime by its release date\n",
    "x = df['release_date']\n",
    "y = df['runtime']\n",
    "plt.scatter(x, y)\n",
    "plt.title('Movie runtime by Year Released')\n",
    "plt.xlabel('release date')\n",
    "plt.ylabel('runtime')\n",
    "plt.show()"
   ]
  },
  {
   "cell_type": "markdown",
   "metadata": {},
   "source": [
    "From the looks of this, I can see that there are quite a few outliers above the max value."
   ]
  },
  {
   "cell_type": "code",
   "execution_count": 30,
   "metadata": {},
   "outputs": [
    {
     "data": {
      "image/png": "[encoded data removed]",
      "text/plain": [
       "<Figure size 640x480 with 1 Axes>"
      ]
     },
     "metadata": {},
     "output_type": "display_data"
    }
   ],
   "source": [
    "dataset = {\n",
    "  \"release_date\": [\"1978-05-18\", \"1978-06-20\", \"1978-06-28\", \"1978-10-14\", \"1978-12-10\"],\n",
    "  \"runtime\": [\"121\", \"140\", \"101\", \"91\", \"143\"]\n",
    "}\n",
    "\n",
    "plt.scatter(dataset['release_date'], dataset['runtime'])\n",
    "plt.title('Movie runtime by Year Released')\n",
    "plt.xlabel('release date')\n",
    "plt.ylabel('runtime')\n",
    "plt.show()"
   ]
  },
  {
   "cell_type": "code",
   "execution_count": 51,
   "metadata": {},
   "outputs": [
    {
     "data": {
      "image/png": "[encoded data removed]",
      "text/plain": [
       "<Figure size 640x480 with 1 Axes>"
      ]
     },
     "metadata": {},
     "output_type": "display_data"
    }
   ],
   "source": [
    "dataset = {\n",
    "  \"release_date\": [\"1978-05-18\", \"1978-06-20\", \"1978-06-28\", \"1978-10-14\", \"1978-12-10\"],\n",
    "  \"runtime\": [\"121\", \"140\", \"101\", \"91\", \"143\"]\n",
    "}\n",
    "\n",
    "df_head = pd.DataFrame(dataset)\n",
    "df_head.release_date = pd.to_datetime(df_head['release_date'], errors='coerce')\n",
    "df_head.runtime = pd.to_numeric(df_head['runtime'], errors='coerce')\n",
    "\n",
    "plt.scatter(df_head['release_date'], df_head['runtime'])\n",
    "plt.title('Movie runtime by Year Released')\n",
    "plt.xlabel('release date')\n",
    "plt.ylabel('value')\n",
    "plt.xticks(dataset['release_date'], rotation=45)\n",
    "plt.show()"
   ]
  },
  {
   "cell_type": "code",
   "execution_count": 16,
   "metadata": {},
   "outputs": [
    {
     "data": {
      "image/png": "[encoded data removed]",
      "text/plain": [
       "<Figure size 640x480 with 1 Axes>"
      ]
     },
     "metadata": {},
     "output_type": "display_data"
    }
   ],
   "source": [
    "# Scatter plot to show a movies budget by the release date in years.\n",
    "x = df['release_date']\n",
    "y = df['budget']\n",
    "plt.scatter(x, y)\n",
    "plt.title('Budget by Year Released')\n",
    "plt.xlabel('release date')\n",
    "plt.ylabel('value')\n",
    "plt.show()"
   ]
  },
  {
   "cell_type": "markdown",
   "metadata": {},
   "source": [
    "Looking at the chart above,there are visible outlier above the max value. "
   ]
  },
  {
   "cell_type": "code",
   "execution_count": 17,
   "metadata": {},
   "outputs": [
    {
     "data": {
      "image/png": "[encoded data removed]",
      "text/plain": [
       "<Figure size 640x480 with 1 Axes>"
      ]
     },
     "metadata": {},
     "output_type": "display_data"
    }
   ],
   "source": [
    "df_head = {\n",
    "  \"release_date\": [\"1978-12-10\", \"1978-06-20\", \"1978-05-18\", \"1978-10-14\", \"1978-06-28\"],\n",
    "  \"budget\": [55_000_000, 7_920_000, 2_700_000, 5_000_000, 5_000_000]\n",
    "}\n",
    "\n",
    "# Formating currency function was used from Ted Spence's github\n",
    "# A custom formatter for currency\n",
    "def format_currency(amount, _):\n",
    "    if amount > 1_000_000_000_000:\n",
    "        return f\"${round(amount / 1_000_000_000_000)}T\"\n",
    "    elif amount > 1_000_000_000:\n",
    "        return f\"${round(amount / 1_000_000_000)}B\"\n",
    "    elif amount > 1_000_000:\n",
    "        return f\"${round(amount / 1_000_000)}M\"\n",
    "    elif amount > 1_000:\n",
    "        return f\"${round(amount / 1_000)}K\"\n",
    "    else:\n",
    "        return f\"${round(amount)}\"\n",
    "    \n",
    "plt.scatter(df_head['release_date'], df_head['budget'])\n",
    "plt.title('Movie Budget by its Release Date')\n",
    "plt.xlabel('release date')\n",
    "plt.ylabel('value')\n",
    "plt.gca().yaxis.set_major_formatter(format_currency)\n",
    "plt.show()    "
   ]
  },
  {
   "cell_type": "markdown",
   "metadata": {},
   "source": [
    "### Detecting Outliers\n",
    "\n",
    "A boxplot will give us a clearer view to help further visualize these outliers."
   ]
  },
  {
   "cell_type": "code",
   "execution_count": 18,
   "metadata": {},
   "outputs": [
    {
     "data": {
      "image/png": "[encoded data removed]",
      "text/plain": [
       "<Figure size 800x1500 with 2 Axes>"
      ]
     },
     "metadata": {},
     "output_type": "display_data"
    }
   ],
   "source": [
    "# Boxplot of the variables runtime and budget to check possible outliers\n",
    "plt.figure(figsize=(8,15))\n",
    "for i, col in enumerate(['runtime', 'budget'], start=1):\n",
    "    plt.subplot(2, 1, i)\n",
    "    plt.title('{} boxplot'.format(col))\n",
    "    df.boxplot(col)"
   ]
  },
  {
   "cell_type": "markdown",
   "metadata": {},
   "source": [
    "Next I will start detecting the outliers in both runtime and budget "
   ]
  },
  {
   "cell_type": "code",
   "execution_count": 19,
   "metadata": {},
   "outputs": [
    {
     "name": "stdout",
     "output_type": "stream",
     "text": [
      "[172, 172, 172, 172, 172, 172, 172, 172, 172, 172, 172, 172, 172, 172, 172, 172, 172, 172, 172, 172, 172, 172, 172, 172, 172, 172, 172, 172, 172, 172, 172, 172, 172, 172, 172, 172, 172, 172, 172, 172, 172, 172, 172, 173, 173, 173, 173, 173, 173, 173, 173, 173, 173, 173, 173, 173, 173, 173, 173, 173, 173, 173, 173, 173, 173, 173, 173, 174, 174, 174, 174, 174, 174, 174, 174, 174, 174, 174, 174, 174, 174, 174, 174, 174, 174, 174, 174, 174, 174, 174, 174, 174, 174, 174, 174, 174, 174, 174, 175, 175, 175, 175, 175, 175, 175, 175, 175, 175, 175, 175, 175, 175, 175, 175, 175, 175, 175, 175, 175, 175, 175, 175, 175, 175, 175, 175, 175, 175, 175, 175, 175, 175, 175, 175, 175, 175, 175, 175, 175, 175, 175, 175, 175, 176, 176, 176, 176, 176, 176, 176, 176, 176, 176, 176, 176, 176, 176, 176, 177, 177, 177, 177, 177, 177, 177, 177, 177, 177, 177, 177, 177, 177, 177, 177, 177, 177, 177, 177, 177, 177, 177, 177, 177, 177, 177, 177, 177, 177, 177, 177, 178, 178, 178, 178, 178, 178, 178, 178, 178, 178, 178, 178, 178, 178, 178, 178, 178, 178, 178, 178, 178, 178, 178, 178, 178, 178, 178, 178, 178, 178, 178, 178, 178, 178, 178, 179, 179, 179, 179, 179, 179, 179, 179, 179, 179, 179, 179, 180, 180, 180, 180, 180, 180, 180, 180, 180, 180, 180, 180, 180, 180, 180, 180, 180, 180, 180, 180, 180, 180, 180, 180, 180, 180, 180, 180, 180, 180, 180, 180, 180, 180, 180, 180, 180, 180, 180, 180, 180, 180, 180, 180, 180, 180, 180, 180, 180, 180, 180, 180, 180, 180, 180, 180, 180, 180, 180, 180, 180, 181, 181, 181, 181, 181, 181, 181, 181, 181, 181, 181, 181, 181, 181, 181, 181, 181, 181, 182, 182, 182, 182, 182, 182, 182, 182, 182, 183, 183, 183, 183, 183, 183, 183, 183, 183, 183, 183, 183, 183, 183, 183, 184, 184, 184, 184, 184, 184, 184, 184, 184, 185, 185, 185, 185, 185, 185, 185, 185, 185, 185, 185, 185, 185, 185, 185, 185, 185, 185, 185, 185, 186, 186, 186, 186, 186, 186, 186, 186, 186, 186, 186, 186, 186, 186, 186, 186, 186, 186, 186, 186, 186, 186, 187, 187, 187, 187, 187, 187, 187, 187, 187, 187, 187, 187, 187, 187, 188, 188, 188, 188, 188, 188, 188, 188, 188, 188, 188, 188, 188, 188, 188, 188, 188, 188, 188, 188, 188, 188, 188, 188, 189, 189, 189, 189, 189, 189, 189, 189, 189, 189, 189, 189, 189, 190, 190, 190, 190, 190, 191, 191, 191, 191, 191, 191, 191, 191, 192, 192, 192, 192, 192, 192, 192, 192, 192, 193, 193, 193, 193, 193, 193, 193, 193, 193, 193, 193, 193, 194, 194, 195, 195, 195, 195, 195, 195, 195, 195, 195, 195, 195, 195, 195, 195, 196, 196, 196, 196, 196, 197, 197, 197, 197, 197, 197, 197, 197, 197, 197, 197, 198, 198, 198, 198, 199, 199, 200, 200, 201, 201, 201, 202, 202, 202, 202, 205, 206, 206, 207, 207, 208, 208, 208, 208, 208, 208, 209, 210, 210, 210, 210, 210, 210, 210, 210, 213, 213, 213, 213, 214, 214, 216, 216, 216, 216, 217, 217, 217, 219, 219, 219, 219, 224, 224, 226, 229, 229, 230, 231, 237, 237, 237, 237, 237, 237, 238, 238, 238, 240, 240, 240, 242, 242, 245, 245, 246, 246, 247, 247, 250, 251, 251, 255, 255, 259, 259, 263, 264, 267, 267, 271, 271, 275, 275, 288, 288, 288, 288, 288, 288, 298, 298, 317, 321, 321, 335, 335, 345, 345, 350, 357, 357, 366, 366, 439, 439, 467, 551, 551, 566, 566]\n",
      "[172, 172, 172, 172, 172, 172, 172, 172, 172, 172, 172, 172, 172, 172, 172, 172, 172, 172, 172, 172, 172, 172, 172, 172, 172, 172, 172, 172, 172, 172, 172, 172, 172, 172, 172, 172, 172, 172, 172, 172, 172, 172, 172, 173, 173, 173, 173, 173, 173, 173, 173, 173, 173, 173, 173, 173, 173, 173, 173, 173, 173, 173, 173, 173, 173, 173, 173, 174, 174, 174, 174, 174, 174, 174, 174, 174, 174, 174, 174, 174, 174, 174, 174, 174, 174, 174, 174, 174, 174, 174, 174, 174, 174, 174, 174, 174, 174, 174, 175, 175, 175, 175, 175, 175, 175, 175, 175, 175, 175, 175, 175, 175, 175, 175, 175, 175, 175, 175, 175, 175, 175, 175, 175, 175, 175, 175, 175, 175, 175, 175, 175, 175, 175, 175, 175, 175, 175, 175, 175, 175, 175, 175, 175, 176, 176, 176, 176, 176, 176, 176, 176, 176, 176, 176, 176, 176, 176, 176, 177, 177, 177, 177, 177, 177, 177, 177, 177, 177, 177, 177, 177, 177, 177, 177, 177, 177, 177, 177, 177, 177, 177, 177, 177, 177, 177, 177, 177, 177, 177, 177, 178, 178, 178, 178, 178, 178, 178, 178, 178, 178, 178, 178, 178, 178, 178, 178, 178, 178, 178, 178, 178, 178, 178, 178, 178, 178, 178, 178, 178, 178, 178, 178, 178, 178, 178, 179, 179, 179, 179, 179, 179, 179, 179, 179, 179, 179, 179, 180, 180, 180, 180, 180, 180, 180, 180, 180, 180, 180, 180, 180, 180, 180, 180, 180, 180, 180, 180, 180, 180, 180, 180, 180, 180, 180, 180, 180, 180, 180, 180, 180, 180, 180, 180, 180, 180, 180, 180, 180, 180, 180, 180, 180, 180, 180, 180, 180, 180, 180, 180, 180, 180, 180, 180, 180, 180, 180, 180, 180, 181, 181, 181, 181, 181, 181, 181, 181, 181, 181, 181, 181, 181, 181, 181, 181, 181, 181, 182, 182, 182, 182, 182, 182, 182, 182, 182, 183, 183, 183, 183, 183, 183, 183, 183, 183, 183, 183, 183, 183, 183, 183, 184, 184, 184, 184, 184, 184, 184, 184, 184, 185, 185, 185, 185, 185, 185, 185, 185, 185, 185, 185, 185, 185, 185, 185, 185, 185, 185, 185, 185, 186, 186, 186, 186, 186, 186, 186, 186, 186, 186, 186, 186, 186, 186, 186, 186, 186, 186, 186, 186, 186, 186, 187, 187, 187, 187, 187, 187, 187, 187, 187, 187, 187, 187, 187, 187, 188, 188, 188, 188, 188, 188, 188, 188, 188, 188, 188, 188, 188, 188, 188, 188, 188, 188, 188, 188, 188, 188, 188, 188, 189, 189, 189, 189, 189, 189, 189, 189, 189, 189, 189, 189, 189, 190, 190, 190, 190, 190, 191, 191, 191, 191, 191, 191, 191, 191, 192, 192, 192, 192, 192, 192, 192, 192, 192, 193, 193, 193, 193, 193, 193, 193, 193, 193, 193, 193, 193, 194, 194, 195, 195, 195, 195, 195, 195, 195, 195, 195, 195, 195, 195, 195, 195, 196, 196, 196, 196, 196, 197, 197, 197, 197, 197, 197, 197, 197, 197, 197, 197, 198, 198, 198, 198, 199, 199, 200, 200, 201, 201, 201, 202, 202, 202, 202, 205, 206, 206, 207, 207, 208, 208, 208, 208, 208, 208, 209, 210, 210, 210, 210, 210, 210, 210, 210, 213, 213, 213, 213, 214, 214, 216, 216, 216, 216, 217, 217, 217, 219, 219, 219, 219, 224, 224, 226, 229, 229, 230, 231, 237, 237, 237, 237, 237, 237, 238, 238, 238, 240, 240, 240, 242, 242, 245, 245, 246, 246, 247, 247, 250, 251, 251, 255, 255, 259, 259, 263, 264, 267, 267, 271, 271, 275, 275, 288, 288, 288, 288, 288, 288, 298, 298, 317, 321, 321, 335, 335, 345, 345, 350, 357, 357, 366, 366, 439, 439, 467, 551, 551, 566, 566, 3000000000.0, 3000000000.0, 3000000000.0, 3400000000.0, 3400000000.0, 3400000000.0, 3400000000.0, 3500000000.0, 3500000000.0, 3500000000.0, 4000000000.0, 4000000000.0, 4000000000.0, 4000000000.0, 4000000000.0, 4000000000.0, 4000000000.0, 4000000000.0, 4000000000.0, 4200000000.0, 4200000000.0, 5000000000.0, 5000000000.0, 5000000000.0, 5000000000.0, 5000000000.0, 5000000000.0, 5000000000.0, 5200000000.0, 5200000000.0, 6500000000.0, 7000000000.0, 7000000000.0, 7000000000.0, 7000000000.0, 7000000000.0, 8500000000.0, 10000000000.0, 10000000000.0, 10000000000.0, 10000000000.0, 10000000000.0, 10000000000.0, 10000000000.0, 10000000000.0, 10000000000.0, 10000000000.0, 10000000000.0, 12215500000.0, 12215500000.0, 15000000000.0, 15000000000.0, 15500000000.0, 19000000000.0, 19000000000.0, 20000000000.0, 26000000000.0, 30000000000.0, 30000000000.0, 30000000000.0, 30000000000.0, 30000000000.0, 30000000000.0, 35000000000.0, 55000000000.0, 59000000000.0, 59000000000.0, 120000000000.0]\n"
     ]
    }
   ],
   "source": [
    "# Assigning an empty array to hold outliers\n",
    "outliers=[]\n",
    "# Funtion to find outliers in runtime and budget and returning the outliers to the outliers list. \n",
    "def detect_outlier(data_1):\n",
    "    \n",
    "    threshold=3\n",
    "    mean_1 = np.mean(data_1)\n",
    "    std_1 =np.std(data_1)\n",
    "    \n",
    "    for y in data_1:\n",
    "        z_score= (y - mean_1)/std_1 \n",
    "        if np.abs(z_score) > threshold:\n",
    "            outliers.append(y)\n",
    "    outliers.sort()        \n",
    "    return outliers\n",
    "  \n",
    "print(detect_outlier(df['runtime']))\n",
    "print(detect_outlier(df['budget']))"
   ]
  },
  {
   "cell_type": "code",
   "execution_count": 20,
   "metadata": {},
   "outputs": [
    {
     "data": {
      "text/plain": [
       "budget\n",
       "55000000.0      NaN\n",
       "7920000.0       NaN\n",
       "2700000.0       NaN\n",
       "5000000.0       NaN\n",
       "5000000.0       NaN\n",
       "              ...  \n",
       "5000000.0       NaN\n",
       "250000.0        NaN\n",
       "5000000.0       NaN\n",
       "4000.0        100.0\n",
       "5000000.0       NaN\n",
       "Name: runtime, Length: 48443, dtype: float64"
      ]
     },
     "execution_count": 20,
     "metadata": {},
     "output_type": "execute_result"
    }
   ],
   "source": [
    "# sort the data\n",
    "pd.Series(df.runtime, df.budget)"
   ]
  },
  {
   "cell_type": "code",
   "execution_count": 21,
   "metadata": {},
   "outputs": [
    {
     "name": "stdout",
     "output_type": "stream",
     "text": [
      "q1 is 91.0 and q3 is 114.0\n",
      "iqr is 23.0\n",
      "lower bound is 56.5 and upper bound is 148.5\n",
      "\n",
      "q1 is 5000000.0 and q3 is 8000000.0\n",
      "iqr is 3000000.0\n",
      "lower bound is 500000.0 and upper bound is 12500000.0\n",
      "\n"
     ]
    }
   ],
   "source": [
    "# Using IQR to detect outliers\n",
    "col_list = [df['runtime'], df['budget']]\n",
    "\n",
    "for col in col_list:\n",
    "  \n",
    "  q1=col.quantile(0.25)\n",
    "  q3=col.quantile(0.75)\n",
    "  \n",
    "  IQR= q3-q1\n",
    "  \n",
    "  lower = q1 - (1.5 * IQR)\n",
    "  upper = q3 + (1.5 * IQR)\n",
    "  \n",
    "  print('q1 is {} and q3 is {}'.format(q1, q3))\n",
    "  print('iqr is {}'.format(IQR))\n",
    "  print('lower bound is {} and upper bound is {}\\n'.format(lower, upper))\n",
    "  "
   ]
  },
  {
   "cell_type": "markdown",
   "metadata": {},
   "source": [
    "In the output above, the first part contains statistics for the runtime and the second parts is for the budget. "
   ]
  },
  {
   "cell_type": "code",
   "execution_count": 22,
   "metadata": {},
   "outputs": [
    {
     "name": "stdout",
     "output_type": "stream",
     "text": [
      "number of outliers:48443\n",
      "max outlier value: runtime    5.660000e+02\n",
      "budget     1.200000e+11\n",
      "dtype: float64\n",
      "min outlier value: runtime    44.0\n",
      "budget      0.0\n",
      "dtype: float64\n"
     ]
    },
    {
     "data": {
      "text/html": [
       "<div>\n",
       "<style scoped>\n",
       "    .dataframe tbody tr th:only-of-type {\n",
       "        vertical-align: middle;\n",
       "    }\n",
       "\n",
       "    .dataframe tbody tr th {\n",
       "        vertical-align: top;\n",
       "    }\n",
       "\n",
       "    .dataframe thead th {\n",
       "        text-align: right;\n",
       "    }\n",
       "</style>\n",
       "<table border=\"1\" class=\"dataframe\">\n",
       "  <thead>\n",
       "    <tr style=\"text-align: right;\">\n",
       "      <th></th>\n",
       "      <th>runtime</th>\n",
       "      <th>budget</th>\n",
       "    </tr>\n",
       "  </thead>\n",
       "  <tbody>\n",
       "    <tr>\n",
       "      <th>0</th>\n",
       "      <td>NaN</td>\n",
       "      <td>55000000.0</td>\n",
       "    </tr>\n",
       "    <tr>\n",
       "      <th>1</th>\n",
       "      <td>NaN</td>\n",
       "      <td>NaN</td>\n",
       "    </tr>\n",
       "    <tr>\n",
       "      <th>2</th>\n",
       "      <td>NaN</td>\n",
       "      <td>NaN</td>\n",
       "    </tr>\n",
       "    <tr>\n",
       "      <th>3</th>\n",
       "      <td>NaN</td>\n",
       "      <td>NaN</td>\n",
       "    </tr>\n",
       "    <tr>\n",
       "      <th>4</th>\n",
       "      <td>NaN</td>\n",
       "      <td>NaN</td>\n",
       "    </tr>\n",
       "    <tr>\n",
       "      <th>...</th>\n",
       "      <td>...</td>\n",
       "      <td>...</td>\n",
       "    </tr>\n",
       "    <tr>\n",
       "      <th>48438</th>\n",
       "      <td>NaN</td>\n",
       "      <td>NaN</td>\n",
       "    </tr>\n",
       "    <tr>\n",
       "      <th>48439</th>\n",
       "      <td>NaN</td>\n",
       "      <td>250000.0</td>\n",
       "    </tr>\n",
       "    <tr>\n",
       "      <th>48440</th>\n",
       "      <td>164.0</td>\n",
       "      <td>NaN</td>\n",
       "    </tr>\n",
       "    <tr>\n",
       "      <th>48441</th>\n",
       "      <td>45.0</td>\n",
       "      <td>4000.0</td>\n",
       "    </tr>\n",
       "    <tr>\n",
       "      <th>48442</th>\n",
       "      <td>NaN</td>\n",
       "      <td>NaN</td>\n",
       "    </tr>\n",
       "  </tbody>\n",
       "</table>\n",
       "<p>48443 rows × 2 columns</p>\n",
       "</div>"
      ],
      "text/plain": [
       "       runtime      budget\n",
       "0          NaN  55000000.0\n",
       "1          NaN         NaN\n",
       "2          NaN         NaN\n",
       "3          NaN         NaN\n",
       "4          NaN         NaN\n",
       "...        ...         ...\n",
       "48438      NaN         NaN\n",
       "48439      NaN    250000.0\n",
       "48440    164.0         NaN\n",
       "48441     45.0      4000.0\n",
       "48442      NaN         NaN\n",
       "\n",
       "[48443 rows x 2 columns]"
      ]
     },
     "execution_count": 22,
     "metadata": {},
     "output_type": "execute_result"
    }
   ],
   "source": [
    "# Function to find outliers using IQR\n",
    "def find_outliers_IQR(col_name):\n",
    "   q1=col_name.quantile(0.25)\n",
    "   q3=col_name.quantile(0.75)\n",
    "   IQR = q3 - q1\n",
    "   outliers = col_name[((col_name<(q1-1.5*IQR)) | (col_name>(q3+1.5*IQR)))]\n",
    "   return outliers\n",
    "\n",
    "\n",
    "# Passing runtime and budget through the function and return outliers in the dataset\n",
    "outliers = find_outliers_IQR(df[['runtime', 'budget']])\n",
    "print('number of outliers:' + str(len(outliers)))\n",
    "print('max outlier value: ' + str(outliers.max()))\n",
    "print('min outlier value: ' + str(outliers.min()))  \n",
    "outliers\n",
    "  "
   ]
  },
  {
   "cell_type": "markdown",
   "metadata": {},
   "source": [
    "In the table above, NaN means the value is not an outlier"
   ]
  },
  {
   "cell_type": "markdown",
   "metadata": {},
   "source": [
    "### Conclusion"
   ]
  },
  {
   "cell_type": "markdown",
   "metadata": {},
   "source": [
    "After analyzing the data in the superhero dataset I found that the two of the columns of interest contains null values after looking at the head of the dataframe. I was able to detect these using the pandas dataframe function, info(). This gave an overview of the columns non-null count didn't add up to 48443 and the datatypes of each column. I then did a further analysis by creating a null breakdown function to get the total number of nulls and the percent of the columns that the null values took up. I then replaced these null values with the mode since the columns were an object datatype. After successfully completing this, I went on to convert the data types to the types specified in the assignment for each column of interest. From here, I graphed scatterplots of each column by the release data. Since there is a lot of data I wanted to get a better view of how this data looks using only the data in the head of the dataframe so I created a new dataframe for each column to get a better observation of these points. From the scatter plots using all the column rows I noticed some possible outliers in the data. To look into these furthe, I created ploxplots for the runtime and budget which showed that there are definitely outliers. To look deeper into this I used IQR to find the ranges to see which of these points are outliers and then the upper and lower limits to see where the top outliers reside. To tackle these outliers, the best way to handle these outliers, from the research I've done is using the winsorization method by finding the upper and lower limit percentiles and then recoding the data accordingly. Winsorizing data means to set extreme outliers equal to a specified percentile of data; changes extreme values to less extreme values in the dataset. For example, if you were to perfrom a 90% winsorization in the dataset, you would find the 5th and 95th percentiles and any values below the 5th percentile you would change to the 5th percentile value and any values that fall below the 95th percentile value would be set to that value. The best way to filter the data would be by the release date. The reason for this, seen from the data_head scatterplot where the information is plotted in a somewhat linear fashion. "
   ]
  }
 ],
 "metadata": {
  "kernelspec": {
   "display_name": "Python 3.10.7 64-bit",
   "language": "python",
   "name": "python3"
  },
  "language_info": {
   "codemirror_mode": {
    "name": "ipython",
    "version": 3
   },
   "file_extension": ".py",
   "mimetype": "text/x-python",
   "name": "python",
   "nbconvert_exporter": "python",
   "pygments_lexer": "ipython3",
   "version": "3.10.7"
  },
  "orig_nbformat": 4,
  "vscode": {
   "interpreter": {
    "hash": "aee8b7b246df8f9039afb4144a1f6fd8d2ca17a180786b69acc140d282b71a49"
   }
  }
 },
 "nbformat": 4,
 "nbformat_minor": 2
}
