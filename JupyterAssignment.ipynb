{
 "cells": [
  {
   "cell_type": "markdown",
   "metadata": {},
   "source": [
    "## DA320\n",
    "Tiffani Vick\n",
    "\n",
    "September 29, 2022"
   ]
  },
  {
   "cell_type": "code",
   "execution_count": 1,
   "metadata": {},
   "outputs": [
    {
     "name": "stderr",
     "output_type": "stream",
     "text": [
      "/Library/Frameworks/Python.framework/Versions/3.10/lib/python3.10/site-packages/urllib3/connectionpool.py:1045: InsecureRequestWarning: Unverified HTTPS request is being made to host 'www.metacritic.com'. Adding certificate verification is strongly advised. See: https://urllib3.readthedocs.io/en/1.26.x/advanced-usage.html#ssl-warnings\n",
      "  warnings.warn(\n"
     ]
    }
   ],
   "source": [
    "import requests\n",
    "\n",
    "url = \"https://www.metacritic.com/browse/movies/score/metascore/year/filtered?year_selected=2022&sort=desc&view=detailed\"\n",
    "\n",
    "# Persisting parameters across requests to fetch contents from URL\n",
    "session = requests.Session()\n",
    "session.headers['User-Agent'] = 'Mozilla/5.0 (Macintosh; Intel Mac OS X 10_9_2) AppleWebKit/537.36 (KHTML, like Gecko) Chrome/34.0.1847.131 Safari/537.36'\n",
    "\n",
    "response = session.get(url, verify=False)"
   ]
  },
  {
   "cell_type": "code",
   "execution_count": 2,
   "metadata": {},
   "outputs": [],
   "source": [
    "import re\n",
    "# Initializing an empty array\n",
    "movieInfos = []\n",
    "class Movie:\n",
    "  # Title, release date, description, metascore, and thumbnail photo url are passed as arguments into the _init_ method to initialize the objects \n",
    "  def __init__(self, title, releaseDate = \"releaseDate\", description = \"description\", metascore = 0, thumbnailPhotoURL = \"url\"):\n",
    "    # Binding attributes to the given arguments\n",
    "    self.title = title\n",
    "    self.releaseDate = releaseDate\n",
    "    self.description = description\n",
    "    self.metascore = metascore\n",
    "    self.thumbnailPhotoURL = thumbnailPhotoURL\n",
    "  \n",
    "  # A function that passes self as an argument and returns the information of the movies formated to include the info titles\n",
    "  def __str__(self):\n",
    "    return f\"\\nTitle: {self.title}\\nRelease Date: {self.releaseDate}\\nDesctiption: {self.description}\\nMetascore: {self.metascore}\\nThumbnail Photo URL: {self.thumbnailPhotoURL}\" \n",
    " \n",
    " # Append movie titles to the array \n",
    "for t in re.findall(\"class=\\\"title\\\"><h3>(.*)<\\\\/h3>\", response.text):\n",
    "  movie = Movie(t)\n",
    "  movieInfos.append(movie)\n",
    "\n",
    "#  Append release dates to the array\n",
    "for i, rD in enumerate(re.findall(\"<div class=\\\"clamp-details\\\">\\s*<span>(.*)<\\/span>\", response.text)):\n",
    "  movieInfos[i].releaseDate = rD\n",
    "\n",
    "# Appending descriptions to the array    \n",
    "for i, d in enumerate(re.findall(\"<div class=\\\"summary\\\">\\s*(.*)\\s*<\\/div>\", response.text)):\n",
    "  movieInfos[i].description = d\n",
    "\n",
    "# Appending metascores to the array\n",
    "for i, ms in enumerate(re.findall(\"<div class=\\\"clamp-score-wrap\\\">\\s*.*\\s<div class=\\\"metascore_w large movie positive\\\">(\\d\\d)<\\/div>\", response.text)):\n",
    "  movieInfos[i].metascore = ms\n",
    "\n",
    "# Appending thumbnail photo urls to the array\n",
    "  for i, p in enumerate(re.findall(\"class=\\\"clamp-image-wrap\\\">\\n\\s*<a href=\\\".*<img src=\\\"(https?:\\/\\/[^\\/\\s]+\\/\\S+\\.jpg)\\\"\", response.text)):\n",
    "    movieInfos[i].thumbnailPhotoURL = p  "
   ]
  },
  {
   "cell_type": "code",
   "execution_count": 3,
   "metadata": {},
   "outputs": [],
   "source": [
    "# Looping through the each element and printing out the movies and their related information \n",
    "# print(\"The Array is : \")\n",
    "# for i in movieInfos:\n",
    "#     print(i, end = '\\n\\n')"
   ]
  }
 ],
 "metadata": {
  "kernelspec": {
   "display_name": "Python 3.10.7 64-bit",
   "language": "python",
   "name": "python3"
  },
  "language_info": {
   "codemirror_mode": {
    "name": "ipython",
    "version": 3
   },
   "file_extension": ".py",
   "mimetype": "text/x-python",
   "name": "python",
   "nbconvert_exporter": "python",
   "pygments_lexer": "ipython3",
   "version": "3.10.7"
  },
  "orig_nbformat": 4,
  "vscode": {
   "interpreter": {
    "hash": "aee8b7b246df8f9039afb4144a1f6fd8d2ca17a180786b69acc140d282b71a49"
   }
  }
 },
 "nbformat": 4,
 "nbformat_minor": 2
}
