{
 "cells": [
  {
   "cell_type": "markdown",
   "metadata": {},
   "source": [
    "## DA320\n",
    "Tiffani Vick\n",
    "\n",
    "September 29, 2022"
   ]
  },
  {
   "cell_type": "code",
   "execution_count": 21,
   "metadata": {},
   "outputs": [],
   "source": [
    "import urllib3\n",
    "url = \"https://www.metacritic.com/browse/movies/score/metascore/year/filtered?year_selected=2022&sort=desc&view=detailed\"\n",
    "http = urllib3.PoolManager(cert_reqs = 'CERT_NONE')\n",
    "urllib3.disable_warnings()\n",
    "response = http.request('GET', url, headers={'User-Agent': 'Mozilla/5.0'}).data.decode(\"utf-8\") "
   ]
  },
  {
   "cell_type": "code",
   "execution_count": 22,
   "metadata": {},
   "outputs": [],
   "source": [
    "import re\n",
    "# Initializing an empty array\n",
    "movieInfos = []\n",
    "class Movie:\n",
    "  # Title, release date, description, metascore, and thumbnail photo url are passed as arguments into the _init_ method to initialize the objects \n",
    "  def __init__(self, title, releaseDate = \"releaseDate\", description = \"description\", metascore = 0, thumbnailPhotoURL = \"url\"):\n",
    "    # Binding attributes to the given arguments\n",
    "    self.title = title\n",
    "    self.releaseDate = releaseDate\n",
    "    self.description = description\n",
    "    self.metascore = metascore\n",
    "    self.thumbnailPhotoURL = thumbnailPhotoURL\n",
    "  \n",
    "  # A function that passes self as an argument and returns the information of the movies formated to include the info titles\n",
    "  def __str__(self):\n",
    "    return f\"\\nTitle: {self.title}\\nRelease Date: {self.releaseDate}\\nDesctiption: {self.description}\\nMetascore: {self.metascore}\\nThumbnail Photo URL: {self.thumbnailPhotoURL}\" \n",
    " \n",
    " # Append movie titles to the array \n",
    "for t in re.findall(\"class=\\\"title\\\"><h3>(.*)<\\\\/h3>\", response):\n",
    "  movie = Movie(t)\n",
    "  movieInfos.append(movie)\n",
    "\n",
    "#  Append release dates to the array\n",
    "for i, rD in enumerate(re.findall(\"<div class=\\\"clamp-details\\\">\\s*<span>(.*)<\\/span>\", response)):\n",
    "  movieInfos[i].releaseDate = rD\n",
    "\n",
    "# Appending descriptions to the array    \n",
    "for i, d in enumerate(re.findall(\"<div class=\\\"summary\\\">\\s*(.*)\\s*<\\/div>\", response)):\n",
    "  movieInfos[i].description = d\n",
    "\n",
    "# Appending metascores to the array\n",
    "for i, ms in enumerate(re.findall(\"<div class=\\\"clamp-score-wrap\\\">\\s*.*\\s<div class=\\\"metascore_w large movie positive\\\">(\\d\\d)<\\/div>\", response)):\n",
    "  movieInfos[i].metascore = ms\n",
    "\n",
    "# Appending thumbnail photo urls to the array\n",
    "  for i, p in enumerate(re.findall(\"class=\\\"clamp-image-wrap\\\">\\n\\s*<a href=\\\".*<img src=\\\"(https?:\\/\\/[^\\/\\s]+\\/\\S+\\.jpg)\\\"\", response)):\n",
    "    movieInfos[i].thumbnailPhotoURL = p  "
   ]
  },
  {
   "cell_type": "code",
   "execution_count": 26,
   "metadata": {},
   "outputs": [
    {
     "name": "stdout",
     "output_type": "stream",
     "text": [
      "The Array is : \n",
      "\n",
      "Title: Aftersun\n",
      "Release Date: October 21, 2022\n",
      "Desctiption: Sophie reflects on the shared joy and private melancholy of a holiday she took with her father twenty years earlier. Memories real and imagined fill the gaps between miniDV footage as she tries to reconcile the father she knew with the man she didn’t.\n",
      "Metascore: 95\n",
      "Thumbnail Photo URL: https://static.metacritic.com/images/products/movies/2/a212d895d29844863024845f7e110530-98.jpg\n",
      "\n",
      "\n",
      "Title: Guillermo Del Toro’s Pinocchio\n",
      "Release Date: November 9, 2022\n",
      "Desctiption: Guillermo del Toro reinvents Carlo Collodi's classic tale of the wooden marionette who is magically brought to life in order to mend the heart of a grieving woodcarver named Geppetto. This whimsical, stop-motion musical directed by Guillermo del Toro and Mark Gustafson follows the mischievous and disobedient adventures of Pinocchio in his pursuit of a place in the world. [Netflix]\n",
      "Metascore: 93\n",
      "Thumbnail Photo URL: https://static.metacritic.com/images/products/movies/3/a9ef29c73e94c4d385c597d521469579-98.jpg\n",
      "\n",
      "\n",
      "Title: Mr. Bachmann and His Class\n",
      "Release Date: February 20, 2022\n",
      "Desctiption: In a German city with a complex history of both excluding and integrating foreigners, a charismatic elementary school teacher provides his pupils, who all come from different countries originally, with the key to feeling at home in Germany and becoming citizens of the world. [MUBI]\n",
      "Metascore: 92\n",
      "Thumbnail Photo URL: https://static.metacritic.com/images/products/movies/8/a768608d8255728bbe8f25f4a562fb75-98.jpg\n",
      "\n",
      "\n",
      "Title: TÁR\n",
      "Release Date: October 7, 2022\n",
      "Desctiption: Set in the international world of classical music, TÁR examines the changing nature of power and its impact and durability in our modern world through the life of iconic musician Lydia Tár (Cate Blanchett), the first-ever female chief conductor of a major German orchestra.\n",
      "Metascore: 91\n",
      "Thumbnail Photo URL: https://static.metacritic.com/images/products/movies/4/eb450e40562c7f8d041abb0fbd6c934a-98.jpg\n",
      "\n",
      "\n",
      "Title: The Worst Person in the World\n",
      "Release Date: February 4, 2022\n",
      "Desctiption: Director Joachim Trier returns with another modern twist on a classically constructed character portrait of contemporary life in Oslo. Chronicling four years in the life of Julie, The Worst Person in the World examines one woman’s quest for love and meaning in the modern world. Fluidly told in twelve chapters, the film features a breakout performance by Cannes Best Actress winner Renate Reinsve as she explores new professional avenues and embarks on relationships with two very different men (Anders Danielsen Lie and Herbert Nordrum) in her search for happiness and identity. [Neon]\n",
      "Metascore: 90\n",
      "Thumbnail Photo URL: https://static.metacritic.com/images/products/movies/9/6c5ea81317f420705492ea4a58f34329-98.jpg\n",
      "\n"
     ]
    }
   ],
   "source": [
    "# Looping through the each element and printing out the movies and their related information \n",
    "print(\"The Array is : \")\n",
    "for i in movieInfos[0: 5]:\n",
    "    print(i, end = '\\n\\n')"
   ]
  }
 ],
 "metadata": {
  "kernelspec": {
   "display_name": "Python 3.10.7 64-bit",
   "language": "python",
   "name": "python3"
  },
  "language_info": {
   "codemirror_mode": {
    "name": "ipython",
    "version": 3
   },
   "file_extension": ".py",
   "mimetype": "text/x-python",
   "name": "python",
   "nbconvert_exporter": "python",
   "pygments_lexer": "ipython3",
   "version": "3.10.7"
  },
  "orig_nbformat": 4,
  "vscode": {
   "interpreter": {
    "hash": "aee8b7b246df8f9039afb4144a1f6fd8d2ca17a180786b69acc140d282b71a49"
   }
  }
 },
 "nbformat": 4,
 "nbformat_minor": 2
}
